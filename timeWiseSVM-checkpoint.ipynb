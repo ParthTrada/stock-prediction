{
 "cells": [
  {
   "cell_type": "code",
   "execution_count": 1,
   "metadata": {},
   "outputs": [],
   "source": [
    "import pandas as pd\n",
    "import numpy as np\n",
    "from sklearn import svm\n",
    "from sklearn.model_selection import train_test_split\n",
    "from sklearn.preprocessing import Imputer \n",
    "import matplotlib.pyplot as plt\n",
    "from sklearn.decomposition import PCA"
   ]
  },
  {
   "cell_type": "code",
   "execution_count": 17,
   "metadata": {},
   "outputs": [],
   "source": [
    "#Finding timewise correlation\n",
    "readFile = pd.read_csv('cleanDataLabel.csv')\n",
    "Data = readFile.drop(readFile.columns[0:2],axis=1)  #Dropping columns of index(0),Date, NDAQ(it is not used in predicting itself)\n",
    "y = Data.iloc[:,-1]\n",
    "Data = Data.drop(Data.columns[-1],axis=1)\n",
    "dataNP = Data.values\n",
    "dataNP = np.where(dataNP=='.',np.nan,dataNP)\n"
   ]
  },
  {
   "cell_type": "code",
   "execution_count": 95,
   "metadata": {},
   "outputs": [
    {
     "name": "stderr",
     "output_type": "stream",
     "text": [
      "c:\\users\\patel\\appdata\\local\\programs\\python\\python37-32\\lib\\site-packages\\sklearn\\utils\\deprecation.py:58: DeprecationWarning: Class Imputer is deprecated; Imputer was deprecated in version 0.20 and will be removed in 0.22. Import impute.SimpleImputer from sklearn instead.\n",
      "  warnings.warn(msg, category=DeprecationWarning)\n",
      "c:\\users\\patel\\appdata\\local\\programs\\python\\python37-32\\lib\\site-packages\\sklearn\\svm\\base.py:196: FutureWarning: The default value of gamma will change from 'auto' to 'scale' in version 0.22 to account better for unscaled features. Set gamma explicitly to 'auto' or 'scale' to avoid this warning.\n",
      "  \"avoid this warning.\", FutureWarning)\n"
     ]
    }
   ],
   "source": [
    "imp = Imputer(missing_values='NaN',strategy='mean',axis=0).fit(dataNP)\n",
    "dataPure = imp.transform(dataNP)\n",
    "\n",
    "#timeDiff = [5,10,15,20,25,30,35,40]\n",
    "\n",
    "timeDiff = [5]\n",
    "accList = []\n",
    "for time in timeDiff:\n",
    "    dataT = dataPure[time:]\n",
    "    data = dataPure[:dataPure.shape[0]-time]   #Removing last timeDiff rows as it doesn't give much insight\n",
    "    diff = (dataT-data)/data\n",
    "    yT = y[:y.shape[0]-time]\n",
    "    \n",
    "    #Separating training and testing data Randomly\n",
    "    xtrain,xtest,ytrain,ytest = train_test_split(diff,yT,test_size=0.3)\n",
    "\n",
    "    #Applying SVM on all features\n",
    "    c=1\n",
    "    svc = svm.SVC(kernel='rbf',C=c).fit(xtrain,ytrain)\n",
    "    y_svm = svc.predict(xtest)\n",
    "    acc = np.sum(y_svm==ytest)/ytest.shape[0]\n",
    "    accList.append(acc)\n"
   ]
  },
  {
   "cell_type": "code",
   "execution_count": 96,
   "metadata": {},
   "outputs": [
    {
     "name": "stdout",
     "output_type": "stream",
     "text": [
      "Accuracy when taken Time Differnce is  0.5611702127659575\n"
     ]
    }
   ],
   "source": [
    "print('Accuracy when taken Time Differnce is ',acc)"
   ]
  },
  {
   "cell_type": "code",
   "execution_count": 94,
   "metadata": {},
   "outputs": [
    {
     "data": {
      "text/plain": [
       "\"plt.plot(timeDiff,accList)\\nplt.xlabel('Time Difference')\\nplt.ylabel('Accuracy')\""
      ]
     },
     "execution_count": 94,
     "metadata": {},
     "output_type": "execute_result"
    }
   ],
   "source": [
    "'''plt.plot(timeDiff,accList)\n",
    "plt.xlabel('Time Difference')\n",
    "plt.ylabel('Accuracy')'''\n"
   ]
  },
  {
   "cell_type": "code",
   "execution_count": null,
   "metadata": {},
   "outputs": [],
   "source": []
  }
 ],
 "metadata": {
  "kernelspec": {
   "display_name": "Python 3",
   "language": "python",
   "name": "python3"
  },
  "language_info": {
   "codemirror_mode": {
    "name": "ipython",
    "version": 3
   },
   "file_extension": ".py",
   "mimetype": "text/x-python",
   "name": "python",
   "nbconvert_exporter": "python",
   "pygments_lexer": "ipython3",
   "version": "3.7.4"
  }
 },
 "nbformat": 4,
 "nbformat_minor": 2
}
